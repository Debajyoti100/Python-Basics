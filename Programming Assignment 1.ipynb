{
 "cells": [
  {
   "cell_type": "markdown",
   "id": "f0ff29b5",
   "metadata": {},
   "source": [
    "1.\tWrite a Python program to print \"Hello Python\"?"
   ]
  },
  {
   "cell_type": "code",
   "execution_count": 22,
   "id": "1c70e8e7",
   "metadata": {},
   "outputs": [
    {
     "name": "stdout",
     "output_type": "stream",
     "text": [
      "Hello Python\n"
     ]
    }
   ],
   "source": [
    "print(\"Hello Python\")"
   ]
  },
  {
   "cell_type": "markdown",
   "id": "ae1f1848",
   "metadata": {},
   "source": [
    "2.\tWrite a Python program to do arithmetical operations addition and division.?"
   ]
  },
  {
   "cell_type": "code",
   "execution_count": 23,
   "id": "8a0d44a5",
   "metadata": {},
   "outputs": [
    {
     "name": "stdout",
     "output_type": "stream",
     "text": [
      "enter the number10\n",
      "enter the number20\n",
      "30\n",
      "0.5\n"
     ]
    }
   ],
   "source": [
    "a=int(input(\"enter the number:\"))\n",
    "b=int(input(\"enter the number:\"))\n",
    "c=a+b\n",
    "d=a/b\n",
    "print(c)\n",
    "print(d)\n"
   ]
  },
  {
   "cell_type": "markdown",
   "id": "97822dbc",
   "metadata": {},
   "source": [
    "3.\tWrite a Python program to find the area of a triangle?"
   ]
  },
  {
   "cell_type": "code",
   "execution_count": 24,
   "id": "088a44eb",
   "metadata": {},
   "outputs": [
    {
     "name": "stdout",
     "output_type": "stream",
     "text": [
      "enter the height of triangle:15\n",
      "enter the base of triangle:20\n"
     ]
    },
    {
     "data": {
      "text/plain": [
       "150.0"
      ]
     },
     "execution_count": 24,
     "metadata": {},
     "output_type": "execute_result"
    }
   ],
   "source": [
    "height=int(input('enter the height of triangle:'))\n",
    "base=int(input('enter the base of triangle:'))\n",
    "area=0.5*base*height\n",
    "def area_triangle(base,height):\n",
    "    return area\n",
    "area_triangle(base,height)   \n"
   ]
  },
  {
   "cell_type": "markdown",
   "id": "c7b50771",
   "metadata": {},
   "source": [
    "4.\tWrite a Python program to swap two variables?"
   ]
  },
  {
   "cell_type": "code",
   "execution_count": 25,
   "id": "1a0a3343",
   "metadata": {},
   "outputs": [
    {
     "name": "stdout",
     "output_type": "stream",
     "text": [
      "Enter First Number: 20\n",
      "Enter Second Number: 30\n",
      "Before swapping ->  20 30\n",
      "After swapping ->  30 20\n"
     ]
    }
   ],
   "source": [
    "num_1 = int(input(\"Enter First Number: \"))\n",
    "num_2 = int(input(\"Enter Second Number: \"))\n",
    "\n",
    "def swapNumbers(a,b):\n",
    "    temp = a\n",
    "    a = b\n",
    "    b = temp\n",
    "    return a,b\n",
    "\n",
    "print('Before swapping -> ',num_1, num_2)\n",
    "num_1, num_2 = swapNumbers(num_1, num_2)\n",
    "print('After swapping -> ',num_1,num_2)\n",
    "\n",
    "   "
   ]
  },
  {
   "cell_type": "markdown",
   "id": "7a0964d5",
   "metadata": {},
   "source": [
    "5.\tWrite a Python program to generate a random number?"
   ]
  },
  {
   "cell_type": "code",
   "execution_count": 26,
   "id": "70ea8ab0",
   "metadata": {},
   "outputs": [
    {
     "name": "stdout",
     "output_type": "stream",
     "text": [
      "Random number ->  53235\n",
      "Random number ->  19\n"
     ]
    }
   ],
   "source": [
    "from random import randint\n",
    "\n",
    "def generateRandomNumber(start=0, end=100000):\n",
    "    print('Random number -> ',randint(start,end))\n",
    "\n",
    "# Generating random numbers without arguments    \n",
    "generateRandomNumber()\n",
    "\n",
    "# Generating random numbers with arguments    \n",
    "generateRandomNumber(0,100)"
   ]
  },
  {
   "cell_type": "code",
   "execution_count": null,
   "id": "929ed45f",
   "metadata": {},
   "outputs": [],
   "source": []
  }
 ],
 "metadata": {
  "kernelspec": {
   "display_name": "Python 3 (ipykernel)",
   "language": "python",
   "name": "python3"
  },
  "language_info": {
   "codemirror_mode": {
    "name": "ipython",
    "version": 3
   },
   "file_extension": ".py",
   "mimetype": "text/x-python",
   "name": "python",
   "nbconvert_exporter": "python",
   "pygments_lexer": "ipython3",
   "version": "3.9.12"
  }
 },
 "nbformat": 4,
 "nbformat_minor": 5
}
