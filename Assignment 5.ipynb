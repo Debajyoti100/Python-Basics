{
 "cells": [
  {
   "cell_type": "markdown",
   "id": "4d9b464b",
   "metadata": {},
   "source": [
    "1. What does an empty dictionary's code look like?\n",
    "Ans:An empty dictionary is often represented by two empty curly brackets\n",
    "d = {} or d = dict()"
   ]
  },
  {
   "cell_type": "markdown",
   "id": "a9a6a0ad",
   "metadata": {},
   "source": [
    "2. What is the value of a dictionary value with the key 'foo' and the value 42?\n",
    "Ans:{'foo':42}"
   ]
  },
  {
   "cell_type": "markdown",
   "id": "0571c9e9",
   "metadata": {},
   "source": [
    "3. What is the most significant distinction between a dictionary and a list?\n",
    "Ans: Dictionaries are represented by {} where as listed are represented by []\n",
    "The Items stored in a dictionary are Unordered , while the items in a list are ordered."
   ]
  },
  {
   "cell_type": "markdown",
   "id": "65fe2509",
   "metadata": {},
   "source": [
    "4. What happens if you try to access spam['foo'] if spam is {'bar': 100}?\n",
    "Ans: we will get a keyError KeyError: 'foo'."
   ]
  },
  {
   "cell_type": "markdown",
   "id": "1ee2490b",
   "metadata": {},
   "source": [
    "5. If a dictionary is stored in spam, what is the difference between the expressions 'cat' in spam and 'cat' in spam.keys()?\n",
    "Ans:There is no difference . The operator checks whether a value exits as a key in the dictionary or not"
   ]
  },
  {
   "cell_type": "markdown",
   "id": "12526858",
   "metadata": {},
   "source": [
    "6. If a dictionary is stored in spam, what is the difference between the expressions 'cat' in spam and 'cat' in spam.values()?\n",
    "Ans:'cat' in spam checks whether there is a 'cat' key in the dictionary, while 'cat' in spam.values() checks whether there is a value 'cat' for one of the keys in spam."
   ]
  },
  {
   "cell_type": "markdown",
   "id": "2e1da4d2",
   "metadata": {},
   "source": [
    "7. What is a shortcut for the following code?\n",
    "if 'color' not in spam:\n",
    "spam['color'] = 'black'\n",
    "Ans: spam.setdefault('color','black')"
   ]
  },
  {
   "cell_type": "markdown",
   "id": "19db0c71",
   "metadata": {},
   "source": [
    "8. How do you \"pretty print\" dictionary values using which module and function?"
   ]
  },
  {
   "cell_type": "code",
   "execution_count": 1,
   "id": "97b50fbd",
   "metadata": {},
   "outputs": [
    {
     "name": "stdout",
     "output_type": "stream",
     "text": [
      "[{'Serial_No': '123', 'Gender': 'M', 'Class_Attended': 'English', 'Class_section': '7-D'}, {'Serial_No': '546', 'Gender': 'U', 'Class_Attended': 'Mathematics', 'Class_section': '5-D'}, {'Serial_No': '456', 'Gender': 'F', 'Class_Attended': 'English', 'Class_section': '7-H'}, {'Serial_No': '876', 'Gender': 'F', 'Class_Attended': 'English', 'Class_section': '10-A'}, {'Serial_No': '343', 'Gender': 'M', 'Class_Attended': 'Hindi', 'Class_section': '3-G'}]\n",
      "Case 1: Using the print function to print the array of the dictionary .\n",
      "[{'Serial_No': '123', 'Gender': 'M', 'Class_Attended': 'English', 'Class_section': '7-D'}, {'Serial_No': '546', 'Gender': 'U', 'Class_Attended': 'Mathematics', 'Class_section': '5-D'}, {'Serial_No': '456', 'Gender': 'F', 'Class_Attended': 'English', 'Class_section': '7-H'}, {'Serial_No': '876', 'Gender': 'F', 'Class_Attended': 'English', 'Class_section': '10-A'}, {'Serial_No': '343', 'Gender': 'M', 'Class_Attended': 'Hindi', 'Class_section': '3-G'}]\n",
      "Case 2: Using pprint function to print the array of a dictionary .\n",
      "[{'Class_Attended': 'English',\n",
      "  'Class_section': '7-D',\n",
      "  'Gender': 'M',\n",
      "  'Serial_No': '123'},\n",
      " {'Class_Attended': 'Mathematics',\n",
      "  'Class_section': '5-D',\n",
      "  'Gender': 'U',\n",
      "  'Serial_No': '546'},\n",
      " {'Class_Attended': 'English',\n",
      "  'Class_section': '7-H',\n",
      "  'Gender': 'F',\n",
      "  'Serial_No': '456'},\n",
      " {'Class_Attended': 'English',\n",
      "  'Class_section': '10-A',\n",
      "  'Gender': 'F',\n",
      "  'Serial_No': '876'},\n",
      " {'Class_Attended': 'Hindi',\n",
      "  'Class_section': '3-G',\n",
      "  'Gender': 'M',\n",
      "  'Serial_No': '343'}]\n"
     ]
    }
   ],
   "source": [
    "# Using pprint()\n",
    "# We first import the pprint module as shown below.\n",
    "import pprint\n",
    "\n",
    "# array of dictionary \n",
    "dict_array_1 = [\n",
    "  {'Serial_No': '123', 'Gender': 'M', 'Class_Attended': 'English', 'Class_section': '7-D' },\n",
    "  {'Serial_No': '546', 'Gender': 'U', 'Class_Attended': 'Mathematics', 'Class_section': '5-D' },\n",
    "  {'Serial_No': '456', 'Gender': 'F', 'Class_Attended': 'English', 'Class_section': '7-H' },\n",
    "  {'Serial_No': '876', 'Gender': 'F', 'Class_Attended': 'English', 'Class_section': '10-A'},\n",
    "  {'Serial_No': '343', 'Gender': 'M', 'Class_Attended': 'Hindi', 'Class_section': '3-G'}\n",
    "]\n",
    "# an array of dictionaries where we have unique keys with values that include strings and lists.\n",
    "\n",
    "# printing the array of  dictionary\n",
    "print(dict_array_1)\n",
    "\n",
    "print(\"Case 1: Using the print function to print the array of the dictionary .\")\n",
    "\n",
    "# creating a variable named pretty_print_1 where we are implementing the pprint method to pretty print dict python\n",
    "print(dict_array_1)\n",
    "\n",
    "print(\"Case 2: Using pprint function to print the array of a dictionary .\")\n",
    "\n",
    "# creating a variable named pretty_print_1 where we are implementing the pprint method to pretty print dict python\n",
    "pretty_print_1 = pprint.pprint(dict_array_1)\n",
    "\n",
    "\n",
    "\n"
   ]
  }
 ],
 "metadata": {
  "kernelspec": {
   "display_name": "Python 3 (ipykernel)",
   "language": "python",
   "name": "python3"
  },
  "language_info": {
   "codemirror_mode": {
    "name": "ipython",
    "version": 3
   },
   "file_extension": ".py",
   "mimetype": "text/x-python",
   "name": "python",
   "nbconvert_exporter": "python",
   "pygments_lexer": "ipython3",
   "version": "3.9.12"
  }
 },
 "nbformat": 4,
 "nbformat_minor": 5
}
