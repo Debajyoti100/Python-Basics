{
 "cells": [
  {
   "cell_type": "markdown",
   "id": "cf081616",
   "metadata": {},
   "source": [
    "# Assignment 1 Solutions"
   ]
  },
  {
   "cell_type": "markdown",
   "id": "bfcdd4e6",
   "metadata": {},
   "source": [
    "1. In the below elements which of them are values or an expression? eg:- values can be integer or string and expressions will be mathematical operators.\n",
    "*, 'hello',-87.8,-,/,+,\t6 \n",
    "Ans:There are total 4 operators and 3 Expressions.\n",
    "They are \n",
    "Operators:*,-,/,+\n",
    "Expressions:'hello',-87.8,6"
   ]
  },
  {
   "cell_type": "markdown",
   "id": "42d9e647",
   "metadata": {},
   "source": [
    "2. What is the difference between string and variable?\n",
    "Ans:A variable is used to store of information and a string is a type of information you would store in a variable.A String is a group of characters or a single character usually enclosed in Double quotes \" \" or single quotes ' '."
   ]
  },
  {
   "cell_type": "markdown",
   "id": "cf933917",
   "metadata": {},
   "source": [
    "3. Describe three different data types.\n",
    "Ans: Three fundamental Data types in python are int, float, complex.Apart from this sequence data types are list,string and tuple.\n",
    "\n",
    "1.int data type: We can use int data type to represent whole numbers (integral values)\n",
    "2.float data type: We can use float data type to represent floating point values (decimal values)\n",
    "3.complex data type: Complex number is represented by complex class. It is specified as (real part) + (imaginary part)j."
   ]
  },
  {
   "cell_type": "code",
   "execution_count": 1,
   "id": "0e57918f",
   "metadata": {},
   "outputs": [
    {
     "name": "stdout",
     "output_type": "stream",
     "text": [
      "123 <class 'int'>\n",
      "2.34 <class 'float'>\n",
      "(5+7j) <class 'complex'>\n"
     ]
    }
   ],
   "source": [
    "#example for int data type\n",
    "int_num=123\n",
    "print(int_num,type(int_num))\n",
    "#example for float data type\n",
    "float_num=2.34\n",
    "print(float_num,type(float_num))\n",
    "#example for complex data type\n",
    "complex_num=5+7j\n",
    "print(complex_num,type(complex_num))"
   ]
  },
  {
   "cell_type": "markdown",
   "id": "5883b133",
   "metadata": {},
   "source": [
    "4. What is an expression made up of? What do all expressions do?\n",
    "Ans: An expression is a combination of values, variables, operators, and calls to functions. Expressions need to be evaluated. If we ask Python to print an expression, the interpreter evaluates the expression and displays the result."
   ]
  },
  {
   "cell_type": "code",
   "execution_count": 2,
   "id": "7ee1a95c",
   "metadata": {},
   "outputs": [
    {
     "data": {
      "text/plain": [
       "3.0"
      ]
     },
     "execution_count": 2,
     "metadata": {},
     "output_type": "execute_result"
    }
   ],
   "source": [
    "20/5-4+3 #it is an expression,The python interpreter evaluates it is 3"
   ]
  },
  {
   "cell_type": "markdown",
   "id": "b4c6481a",
   "metadata": {},
   "source": [
    "5. This assignment statements, like spam = 10. What is the difference between an expression and a statement?\n",
    "Ans: An expression is a combination of values, variables, and operators.When we type an expression at the prompt, the interpreter evaluates it, which means that it finds the value of the expression.\n",
    "\n",
    "eg: 20/5-4+3 is an example of a statement\n",
    "\n",
    "A statement is a unit of code that has an effect, like creating a variable or displaying a value.When we type a statement, the interpreter executes it, which means that it does whatever the statement says. In general, statements don’t have values.\n",
    "\n",
    "eg: variable declaration and assignment are statements because they do not return a value\n"
   ]
  },
  {
   "cell_type": "code",
   "execution_count": 3,
   "id": "977fe28d",
   "metadata": {},
   "outputs": [
    {
     "name": "stdout",
     "output_type": "stream",
     "text": [
      "Hello World!\n"
     ]
    }
   ],
   "source": [
    "#Example\n",
    "20/5-4+3 #it is an expression\n",
    "print(\"Hello World!\")# it is an expression statement"
   ]
  },
  {
   "cell_type": "markdown",
   "id": "5e1d284a",
   "metadata": {},
   "source": [
    "6. After running the following code, what does the variable bacon contain?\n",
    "bacon = 22\n",
    "bacon + 1\n",
    "Ans: The variable bacon is set to 22 .The expression bacon + 1 does not reassign the value in bacon (that would the case if the expression is like bacon = bacon + 1 instead of bacon + 1)\n"
   ]
  },
  {
   "cell_type": "code",
   "execution_count": 4,
   "id": "ee69e512",
   "metadata": {},
   "outputs": [
    {
     "name": "stdout",
     "output_type": "stream",
     "text": [
      "22\n"
     ]
    }
   ],
   "source": [
    "#example no 1\n",
    "bacon = 22\n",
    "bacon + 1\n",
    "print(bacon)"
   ]
  },
  {
   "cell_type": "code",
   "execution_count": 5,
   "id": "e9183bc5",
   "metadata": {},
   "outputs": [
    {
     "name": "stdout",
     "output_type": "stream",
     "text": [
      "23\n"
     ]
    }
   ],
   "source": [
    "#example no 2\n",
    "bacon = 22\n",
    "bacon=bacon+1\n",
    "print(bacon)"
   ]
  },
  {
   "cell_type": "markdown",
   "id": "3aa4a72c",
   "metadata": {},
   "source": [
    "7. What should the values of the following two terms be?\n",
    "'spam' + 'spamspam'\n",
    "'spam' * 3\n",
    "Ans: Both expressions evaluate to the string 'spamspamspam' Where as the first expression follows String Concatentation and the second expression follows String Multiplication"
   ]
  },
  {
   "cell_type": "code",
   "execution_count": 6,
   "id": "cb16b724",
   "metadata": {},
   "outputs": [
    {
     "name": "stdout",
     "output_type": "stream",
     "text": [
      "spamspamspam\n",
      "spamspamspam\n"
     ]
    }
   ],
   "source": [
    "print('spam' + 'spamspam')#String Concatenation\n",
    "print('spam' * 3)#String Multiplication"
   ]
  },
  {
   "cell_type": "markdown",
   "id": "49b8280e",
   "metadata": {},
   "source": [
    "8. Why is eggs a valid variable name while 100 is invalid?\n",
    "Ans: As per python language,Variable names cannot begin with a number.The python rules for naming a variable are :-\n",
    "1.Variable names are case-sensitive('Debajyoti' &'debajyoti' are two different variables.)\n",
    "2.Variable name cannot start with a number\n",
    "3.Variable name can only contain alpha-numeric characters and underscores (A-z, 0-9, & _ ).\n",
    "4.Variable name must start with a letter or the underscore character.\n",
    "5.The reserved words(keywords) cannot be used naming the variable"
   ]
  },
  {
   "cell_type": "code",
   "execution_count": 7,
   "id": "7b5ee4af",
   "metadata": {},
   "outputs": [
    {
     "ename": "SyntaxError",
     "evalue": "cannot assign to literal (3671550362.py, line 1)",
     "output_type": "error",
     "traceback": [
      "\u001b[1;36m  Input \u001b[1;32mIn [7]\u001b[1;36m\u001b[0m\n\u001b[1;33m    100=\"Debajyoti\"\u001b[0m\n\u001b[1;37m    ^\u001b[0m\n\u001b[1;31mSyntaxError\u001b[0m\u001b[1;31m:\u001b[0m cannot assign to literal\n"
     ]
    }
   ],
   "source": [
    "100=\"Debajyoti\"\n",
    "print(100)"
   ]
  },
  {
   "cell_type": "markdown",
   "id": "f9985d1b",
   "metadata": {},
   "source": [
    "9. What three functions can be used to get the integer, floating-point number, or string version of a value?\n",
    "Ans: The int(),float(),and str() functions will evaluate to the integer,floating-point number,string version of the value passed to them."
   ]
  },
  {
   "cell_type": "code",
   "execution_count": 8,
   "id": "49e223bc",
   "metadata": {},
   "outputs": [
    {
     "name": "stdout",
     "output_type": "stream",
     "text": [
      "100\n",
      "100.0\n",
      "100\n"
     ]
    }
   ],
   "source": [
    "print(int(100))\n",
    "print(float(100))\n",
    "print(str(100))"
   ]
  },
  {
   "cell_type": "markdown",
   "id": "2387a440",
   "metadata": {},
   "source": [
    "10. Why does this expression cause an error? How can you fix it?\n",
    "'I have eaten ' + 99 + ' burritos.'\n",
    "Ans: This cause of error is 99.because 99 is not a string. 99 must be typecasted to a string to fix this error. the correct way is:\n",
    "Input: 'I have eaten ' + str(99) + 'burritos.'\n",
    "Output: 'I have eaten 99 burritos.'"
   ]
  },
  {
   "cell_type": "code",
   "execution_count": 16,
   "id": "20c6fd3e",
   "metadata": {},
   "outputs": [
    {
     "name": "stdout",
     "output_type": "stream",
     "text": [
      "I have eaten 99 burritos\n"
     ]
    }
   ],
   "source": [
    "print('I have eaten '+str(99)+' burritos')"
   ]
  }
 ],
 "metadata": {
  "kernelspec": {
   "display_name": "Python 3 (ipykernel)",
   "language": "python",
   "name": "python3"
  },
  "language_info": {
   "codemirror_mode": {
    "name": "ipython",
    "version": 3
   },
   "file_extension": ".py",
   "mimetype": "text/x-python",
   "name": "python",
   "nbconvert_exporter": "python",
   "pygments_lexer": "ipython3",
   "version": "3.9.12"
  }
 },
 "nbformat": 4,
 "nbformat_minor": 5
}
